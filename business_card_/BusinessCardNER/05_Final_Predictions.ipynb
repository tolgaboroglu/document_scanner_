{
 "cells": [
  {
   "cell_type": "code",
   "execution_count": 1,
   "metadata": {},
   "outputs": [],
   "source": [
    "import numpy as np\n",
    "import pandas as pd\n",
    "import cv2\n",
    "import pytesseract\n",
    "from glob import glob\n",
    "import spacy\n",
    "import re\n",
    "import string"
   ]
  },
  {
   "cell_type": "code",
   "execution_count": 5,
   "metadata": {},
   "outputs": [],
   "source": [
    "img = cv2.imread('C:/Users/tolga/business_card_/BusinessCardNER/data/6.jpg')\n",
    "\n",
    "\n",
    "cv2.namedWindow('original', cv2.WINDOW_NORMAL)  # Fixed the typo from cvs2 to cv2\n",
    "cv2.imshow('original', img)\n",
    "cv2.waitKey(0)\n",
    "cv2.destroyAllWindows()"
   ]
  },
  {
   "cell_type": "code",
   "execution_count": null,
   "metadata": {},
   "outputs": [],
   "source": [
    "img_results , entities = pred.getPredictions(img) \n",
    "\n",
    "print(entities)\n",
    "cv2.namedWindow('predictions', cv2.WINDOW_NORMAL) \n",
    "cv2.imshow('predictions', img_results) \n",
    "cv2.waitKey(0) \n",
    "cv2.destroyAllWindows()"
   ]
  },
  {
   "cell_type": "code",
   "execution_count": 16,
   "metadata": {},
   "outputs": [],
   "source": [
    "def getPredictions(image_path):\n",
    "    # Load the image using OpenCV\n",
    "    image = cv2.imread(image_path)\n",
    "\n",
    "    # Check if the image is loaded successfully\n",
    "    if image is None:\n",
    "        raise ValueError(f\"Failed to load the image from {image_path}\")\n",
    "\n",
    "    # extract data using Pytesseract \n",
    "    tessData = pytesseract.image_to_data(image)\n",
    "    \n",
    "    # convert into dataframe\n",
    "    tessList = list(map(lambda x: x.split('\\t'), tessData.split('\\n')))\n",
    "    \n",
    "    # Your implementation for processing tessList goes here\n",
    "    # Assuming you want to create a DataFrame called 'entities'\n",
    "    entities = pd.DataFrame(tessList, columns=tessList[0])\n",
    "\n",
    "    return image, entities\n",
    "\n",
    "# Replace \"path/to/your/image.jpg\" with the actual path to your image file\n",
    "image_path = \"C:/Users/tolga/business_card_/BusinessCardNER/data/6.jpg\"\n",
    "img_results, entities = getPredictions(image_path)\n",
    "\n",
    "# The rest of your code for drawing bounding boxes and displaying the image\n",
    "# ...\n",
    "\n",
    "# Display the image with predictions\n",
    "cv2.namedWindow('predictions', cv2.WINDOW_NORMAL)\n",
    "cv2.imshow('predictions', img_results)\n",
    "cv2.waitKey(0)\n",
    "cv2.destroyAllWindows()\n",
    "\n"
   ]
  },
  {
   "cell_type": "code",
   "execution_count": 32,
   "metadata": {},
   "outputs": [],
   "source": [
    "# Load image\n",
    "image = cv2.imread('C:/Users/tolga/business_card_/BusinessCardNER/data/6.jpg')\n",
    "\n",
    "# Extract data using Pytesseract\n",
    "tessData = pytesseract.image_to_data(image)\n",
    "\n",
    "# Convert into DataFrame\n",
    "tessList = list(map(lambda x: x.split('\\t'), tessData.split('\\n')))\n",
    "df = pd.DataFrame(tessList[1:], columns=tessList[0])\n",
    "df.dropna(inplace=True)  # Drop missing values\n",
    "df['text'] = df['text'].apply(cleanText)\n",
    "\n",
    "# Convert data into content\n",
    "df_clean = df.query('text != \"\" ')\n",
    "content = \" \".join([w for w in df_clean['text']])\n",
    "\n",
    "# Display the text on the image\n",
    "cv2.putText(image, content, (50, 50), cv2.FONT_HERSHEY_SIMPLEX, 1, (255, 0, 0), 2, cv2.LINE_AA)\n",
    "\n",
    "# Display the image with the detected text\n",
    "cv2.imshow('Business Card with Text', image)\n",
    "cv2.waitKey(0)\n",
    "cv2.destroyAllWindows()"
   ]
  },
  {
   "cell_type": "code",
   "execution_count": null,
   "metadata": {},
   "outputs": [],
   "source": []
  }
 ],
 "metadata": {
  "kernelspec": {
   "display_name": "docuscan",
   "language": "python",
   "name": "python3"
  },
  "language_info": {
   "codemirror_mode": {
    "name": "ipython",
    "version": 3
   },
   "file_extension": ".py",
   "mimetype": "text/x-python",
   "name": "python",
   "nbconvert_exporter": "python",
   "pygments_lexer": "ipython3",
   "version": "3.10.0"
  }
 },
 "nbformat": 4,
 "nbformat_minor": 2
}
